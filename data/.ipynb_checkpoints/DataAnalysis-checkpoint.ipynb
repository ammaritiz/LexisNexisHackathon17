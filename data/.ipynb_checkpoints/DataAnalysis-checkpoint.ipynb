{
 "cells": [
  {
   "cell_type": "code",
   "execution_count": 3,
   "metadata": {
    "collapsed": true
   },
   "outputs": [],
   "source": [
    "import pandas as pd\n",
    "from bs4 import BeautifulSoup\n",
    "from xml.dom import minidom\n"
   ]
  },
  {
   "cell_type": "code",
   "execution_count": 6,
   "metadata": {},
   "outputs": [
    {
     "name": "stderr",
     "output_type": "stream",
     "text": [
      "C:\\Users\\Mahesh\\AppData\\Local\\conda\\conda\\envs\\py36\\lib\\site-packages\\ipykernel_launcher.py:1: ParserWarning: Falling back to the 'python' engine because the 'c' engine does not support regex separators (separators > 1 char and different from '\\s+' are interpreted as regex); you can avoid this warning by specifying engine='python'.\n",
      "  \"\"\"Entry point for launching an IPython kernel.\n"
     ]
    }
   ],
   "source": [
    "df_meta = pd.read_csv(\"metadata.tsv\", sep=\"\\\\t\")"
   ]
  },
  {
   "cell_type": "code",
   "execution_count": 8,
   "metadata": {},
   "outputs": [
    {
     "data": {
      "text/html": [
       "<div>\n",
       "<style>\n",
       "    .dataframe thead tr:only-child th {\n",
       "        text-align: right;\n",
       "    }\n",
       "\n",
       "    .dataframe thead th {\n",
       "        text-align: left;\n",
       "    }\n",
       "\n",
       "    .dataframe tbody tr th {\n",
       "        vertical-align: top;\n",
       "    }\n",
       "</style>\n",
       "<table border=\"1\" class=\"dataframe\">\n",
       "  <thead>\n",
       "    <tr style=\"text-align: right;\">\n",
       "      <th></th>\n",
       "      <th>opinion_id</th>\n",
       "      <th>short_name</th>\n",
       "      <th>long_name</th>\n",
       "      <th>docket_number</th>\n",
       "      <th>citation</th>\n",
       "      <th>court_abbr</th>\n",
       "      <th>court</th>\n",
       "      <th>decision_date</th>\n",
       "      <th>src</th>\n",
       "    </tr>\n",
       "  </thead>\n",
       "  <tbody>\n",
       "    <tr>\n",
       "      <th>0</th>\n",
       "      <td>6715180ab4938241121482269fe07153</td>\n",
       "      <td>Nguyen Ngodtu Chu v. Wolfenbarger</td>\n",
       "      <td>Nguyen Ngodtu Chu v. Wolfenbarger, Warden</td>\n",
       "      <td>No. 10-9455</td>\n",
       "      <td>563 U.S. 950</td>\n",
       "      <td>U.S.</td>\n",
       "      <td>Supreme Court of the United States</td>\n",
       "      <td>2011-04-18</td>\n",
       "      <td>casemets/32044133498667_redacted_CASEMETS_0628...</td>\n",
       "    </tr>\n",
       "    <tr>\n",
       "      <th>1</th>\n",
       "      <td>e7fb08890a00a2b742b0c9f40b724195</td>\n",
       "      <td>Flores v. Holder</td>\n",
       "      <td>Flores v. Holder, Attorney General, et al.</td>\n",
       "      <td>No. 10-8787</td>\n",
       "      <td>563 U.S. 913</td>\n",
       "      <td>U.S.</td>\n",
       "      <td>Supreme Court of the United States</td>\n",
       "      <td>2011-03-28</td>\n",
       "      <td>casemets/32044133498667_redacted_CASEMETS_0184...</td>\n",
       "    </tr>\n",
       "  </tbody>\n",
       "</table>\n",
       "</div>"
      ],
      "text/plain": [
       "                         opinion_id                         short_name  \\\n",
       "0  6715180ab4938241121482269fe07153  Nguyen Ngodtu Chu v. Wolfenbarger   \n",
       "1  e7fb08890a00a2b742b0c9f40b724195                   Flores v. Holder   \n",
       "\n",
       "                                    long_name docket_number      citation  \\\n",
       "0   Nguyen Ngodtu Chu v. Wolfenbarger, Warden   No. 10-9455  563 U.S. 950   \n",
       "1  Flores v. Holder, Attorney General, et al.   No. 10-8787  563 U.S. 913   \n",
       "\n",
       "  court_abbr                               court decision_date  \\\n",
       "0       U.S.  Supreme Court of the United States    2011-04-18   \n",
       "1       U.S.  Supreme Court of the United States    2011-03-28   \n",
       "\n",
       "                                                 src  \n",
       "0  casemets/32044133498667_redacted_CASEMETS_0628...  \n",
       "1  casemets/32044133498667_redacted_CASEMETS_0184...  "
      ]
     },
     "execution_count": 8,
     "metadata": {},
     "output_type": "execute_result"
    }
   ],
   "source": [
    "df_meta.head(2)"
   ]
  },
  {
   "cell_type": "code",
   "execution_count": 12,
   "metadata": {
    "scrolled": true
   },
   "outputs": [],
   "source": [
    "df_judges = pd.read_csv(\"federal-judges.csv\", encoding = 'ISO-8859-1')"
   ]
  },
  {
   "cell_type": "code",
   "execution_count": 14,
   "metadata": {},
   "outputs": [
    {
     "data": {
      "text/html": [
       "<div>\n",
       "<style>\n",
       "    .dataframe thead tr:only-child th {\n",
       "        text-align: right;\n",
       "    }\n",
       "\n",
       "    .dataframe thead th {\n",
       "        text-align: left;\n",
       "    }\n",
       "\n",
       "    .dataframe tbody tr th {\n",
       "        vertical-align: top;\n",
       "    }\n",
       "</style>\n",
       "<table border=\"1\" class=\"dataframe\">\n",
       "  <thead>\n",
       "    <tr style=\"text-align: right;\">\n",
       "      <th></th>\n",
       "      <th>judge_id</th>\n",
       "      <th>Last Name</th>\n",
       "      <th>First Name</th>\n",
       "      <th>Middle Name</th>\n",
       "      <th>Suffix</th>\n",
       "      <th>Birth Month</th>\n",
       "      <th>Birth Day</th>\n",
       "      <th>Birth Year</th>\n",
       "      <th>Birth City</th>\n",
       "      <th>Birth State</th>\n",
       "      <th>...</th>\n",
       "      <th>Degree (3)</th>\n",
       "      <th>Degree Year (3)</th>\n",
       "      <th>School (4)</th>\n",
       "      <th>Degree (4)</th>\n",
       "      <th>Degree Year (4)</th>\n",
       "      <th>School (5)</th>\n",
       "      <th>Degree (5)</th>\n",
       "      <th>Degree Year (5)</th>\n",
       "      <th>Professional Career</th>\n",
       "      <th>Other Nominations/Recess Appointments</th>\n",
       "    </tr>\n",
       "  </thead>\n",
       "  <tbody>\n",
       "    <tr>\n",
       "      <th>0</th>\n",
       "      <td>3563</td>\n",
       "      <td>Abrams</td>\n",
       "      <td>Leslie</td>\n",
       "      <td>Joyce</td>\n",
       "      <td></td>\n",
       "      <td>NaN</td>\n",
       "      <td>NaN</td>\n",
       "      <td>1974</td>\n",
       "      <td>Madison</td>\n",
       "      <td>WI</td>\n",
       "      <td>...</td>\n",
       "      <td>NaN</td>\n",
       "      <td>NaN</td>\n",
       "      <td>NaN</td>\n",
       "      <td>NaN</td>\n",
       "      <td>NaN</td>\n",
       "      <td>NaN</td>\n",
       "      <td>NaN</td>\n",
       "      <td>NaN</td>\n",
       "      <td>Law clerk, Hon. Marvin J. Garbis, U.S. Distric...</td>\n",
       "      <td>NaN</td>\n",
       "    </tr>\n",
       "    <tr>\n",
       "      <th>1</th>\n",
       "      <td>3419</td>\n",
       "      <td>Abrams</td>\n",
       "      <td>Ronnie</td>\n",
       "      <td></td>\n",
       "      <td></td>\n",
       "      <td>NaN</td>\n",
       "      <td>NaN</td>\n",
       "      <td>1968</td>\n",
       "      <td>New York</td>\n",
       "      <td>NY</td>\n",
       "      <td>...</td>\n",
       "      <td>NaN</td>\n",
       "      <td>NaN</td>\n",
       "      <td>NaN</td>\n",
       "      <td>NaN</td>\n",
       "      <td>NaN</td>\n",
       "      <td>NaN</td>\n",
       "      <td>NaN</td>\n",
       "      <td>NaN</td>\n",
       "      <td>Law clerk, Hon. Thomas P. Griesa, U.S. Distric...</td>\n",
       "      <td>NaN</td>\n",
       "    </tr>\n",
       "  </tbody>\n",
       "</table>\n",
       "<p>2 rows × 200 columns</p>\n",
       "</div>"
      ],
      "text/plain": [
       "   judge_id Last Name First Name Middle Name Suffix  Birth Month  Birth Day  \\\n",
       "0      3563    Abrams     Leslie       Joyce                 NaN        NaN   \n",
       "1      3419    Abrams     Ronnie                             NaN        NaN   \n",
       "\n",
       "  Birth Year Birth City Birth State                  ...                   \\\n",
       "0       1974    Madison          WI                  ...                    \n",
       "1       1968   New York          NY                  ...                    \n",
       "\n",
       "   Degree (3)  Degree Year (3)  School (4) Degree (4) Degree Year (4)  \\\n",
       "0         NaN              NaN         NaN        NaN             NaN   \n",
       "1         NaN              NaN         NaN        NaN             NaN   \n",
       "\n",
       "  School (5) Degree (5) Degree Year (5)  \\\n",
       "0        NaN        NaN             NaN   \n",
       "1        NaN        NaN             NaN   \n",
       "\n",
       "                                 Professional Career  \\\n",
       "0  Law clerk, Hon. Marvin J. Garbis, U.S. Distric...   \n",
       "1  Law clerk, Hon. Thomas P. Griesa, U.S. Distric...   \n",
       "\n",
       "  Other Nominations/Recess Appointments  \n",
       "0                                   NaN  \n",
       "1                                   NaN  \n",
       "\n",
       "[2 rows x 200 columns]"
      ]
     },
     "execution_count": 14,
     "metadata": {},
     "output_type": "execute_result"
    }
   ],
   "source": [
    "df_judges.head(2)"
   ]
  },
  {
   "cell_type": "code",
   "execution_count": 122,
   "metadata": {},
   "outputs": [],
   "source": [
    "#with open('./arkansas/NOTALEPH000229_redacted_CASEMETS_0001.xml') as fp:\n",
    "    #data_txt = fp.read()\n",
    "    \n",
    "xmldoc = minidom.parse('./arkansas/NOTALEPH000229_redacted_CASEMETS_0001.xml')"
   ]
  },
  {
   "cell_type": "code",
   "execution_count": 113,
   "metadata": {},
   "outputs": [],
   "source": [
    "sd = xmldoc.getElementsByTagName('case')[0].getElementsByTagName('name')"
   ]
  },
  {
   "cell_type": "code",
   "execution_count": 56,
   "metadata": {},
   "outputs": [],
   "source": [
    "import os\n",
    "from os import listdir\n",
    "from os.path import isfile, join\n",
    "mypath = os.getcwd() + '\\\\federal\\\\casemets\\\\'\n",
    "onlyfiles = [join(mypath, f) for f in listdir(mypath) if isfile(join(mypath, f)) and f[-3:] == 'xml']\n",
    "mypath = os.getcwd() + '\\\\arkansas\\\\'\n",
    "onlyfiles += [join(mypath, f) for f in listdir(mypath) if isfile(join(mypath, f)) and f[-3:] == 'xml']"
   ]
  },
  {
   "cell_type": "code",
   "execution_count": null,
   "metadata": {
    "collapsed": true
   },
   "outputs": [],
   "source": []
  },
  {
   "cell_type": "code",
   "execution_count": 208,
   "metadata": {},
   "outputs": [
    {
     "name": "stderr",
     "output_type": "stream",
     "text": [
      "IOPub data rate exceeded.\n",
      "The notebook server will temporarily stop sending output\n",
      "to the client in order to avoid crashing it.\n",
      "To change this limit, set the config variable\n",
      "`--NotebookApp.iopub_data_rate_limit`.\n"
     ]
    }
   ],
   "source": [
    "import sys\n",
    "cnt = 0\n",
    "dct_data = dict()\n",
    "\n",
    "for i in range(len(onlyfiles)):\n",
    "    try:\n",
    "        \n",
    "        xmldoc = minidom.parse(onlyfiles[i])\n",
    "        \n",
    "        dct_data['caseid'] = dct_data.get('caseid',[])+[xmldoc.getElementsByTagName('case')[0].getAttribute('caseid')]\n",
    "        \n",
    "        dct_data['name']  = dct_data.get('name',[])+[xmldoc.getElementsByTagName('case')[0].getElementsByTagName('name')[0].childNodes[0].data]\n",
    "        dct_data['docketnumber']  = dct_data.get('docketnumber',[])+[xmldoc.getElementsByTagName('case')[0].getElementsByTagName('docketnumber')[0].childNodes[0].data]\n",
    "        dct_data['decisiondate']  = dct_data.get('decisiondate',[])+[xmldoc.getElementsByTagName('case')[0].getElementsByTagName('decisiondate')[0].childNodes[0].data]\n",
    "        \n",
    "        dct_data['opinion_majority'] = dct_data.get('opinion_majority',[])+['']\n",
    "        dct_data['opinion_dissent'] = dct_data.get('opinion_dissent',[])+['']\n",
    "        dct_data['opinion_other'] = dct_data.get('opinion_other',[])+['']\n",
    "        dct_data['judge_name'] = dct_data.get('judge_name',[])+['']\n",
    "        \n",
    "        try:\n",
    "            for op in xmldoc.getElementsByTagName('opinion'):\n",
    "                key = 'opinion_other'\n",
    "                if op.getAttribute('type') == 'majority':\n",
    "                    key = 'opinion_majority'\n",
    "                    if len(op.getElementsByTagName('author')) > 0:\n",
    "                        dct_data['judge_name'][-1] = op.getElementsByTagName('author')[0].childNodes[0].data\n",
    "                    \n",
    "                elif op.getAttribute('type') == 'dissent':\n",
    "                    key = 'opinion_dissent'\n",
    "                else:\n",
    "                    key = 'opinion_other'\n",
    "                txt = \"\"\n",
    "                for st in op.getElementsByTagName('p'):\n",
    "                    txt += st.childNodes[0].data\n",
    "                for st in op.getElementsByTagName('blockquote'):\n",
    "                    txt += st.childNodes[0].data\n",
    "                dct_data[key][-1] = txt\n",
    "        except:\n",
    "            print(\"Exception in opinion: \",onlyfiles[i], sys.exc_info())\n",
    "    except Exception as e:\n",
    "        print(\"Exception: \",onlyfiles[i], sys.exc_info())\n",
    "        break\n",
    "\n",
    "print(cnt)\n",
    "print(dct_data)"
   ]
  },
  {
   "cell_type": "code",
   "execution_count": 205,
   "metadata": {
    "scrolled": true
   },
   "outputs": [
    {
     "data": {
      "text/plain": [
       "{'caseid': ['32044133498667_0029'],\n",
       " 'decisiondate': ['2011-03-28'],\n",
       " 'docketnumber': ['No. 10-950'],\n",
       " 'judge_name': [0],\n",
       " 'name': ['Davis v. Humphrey, Warden'],\n",
       " 'opinion_dissent': [],\n",
       " 'opinion_majority': ['Appeal from D. C. S. D. Ga. dismissed, and petition for writ of habeas corpus and common-law writ of certiorari denied.'],\n",
       " 'opinion_other': []}"
      ]
     },
     "execution_count": 205,
     "metadata": {},
     "output_type": "execute_result"
    }
   ],
   "source": [
    "cnt = 0\n",
    "dct_data = dict()\n",
    "xmldoc = minidom.parse('F:\\\\LexisNexis\\\\LexisNexisHackathon17\\\\data\\\\federal\\\\casemets\\\\32044133498667_redacted_CASEMETS_0029.xml')\n",
    "dct_data['caseid'] = dct_data.get('caseid',[])+[xmldoc.getElementsByTagName('case')[0].getAttribute('caseid')]\n",
    "\n",
    "dct_data['name']  = dct_data.get('name',[])+[xmldoc.getElementsByTagName('case')[0].getElementsByTagName('name')[0].childNodes[0].data]\n",
    "dct_data['docketnumber']  = dct_data.get('docketnumber',[])+[xmldoc.getElementsByTagName('case')[0].getElementsByTagName('docketnumber')[0].childNodes[0].data]\n",
    "dct_data['decisiondate']  = dct_data.get('decisiondate',[])+[xmldoc.getElementsByTagName('case')[0].getElementsByTagName('decisiondate')[0].childNodes[0].data]\n",
    "dct_data['opinion_majority'],dct_data['opinion_dissent'],dct_data['opinion_other'] = [], [], []\n",
    "dct_data['judge_name'] = []\n",
    "for op in xmldoc.getElementsByTagName('opinion'):\n",
    "    key = 'opinion_other'\n",
    "    if op.getAttribute('type') == 'majority':\n",
    "        key = 'opinion_majority'\n",
    "        dct_data['judge_name'] = dct_data.get('judge_name', []) +[ len(op.getElementsByTagName('author')) ]\n",
    "    elif op.getAttribute('type') == 'dissent':\n",
    "        key = 'opinion_dissent'\n",
    "    else:\n",
    "        key = 'opinion_other'\n",
    "    txt = \"\"\n",
    "    for st in op.getElementsByTagName('p'):\n",
    "        txt += st.childNodes[0].data\n",
    "    for st in op.getElementsByTagName('blockquote'):\n",
    "        txt += st.childNodes[0].data\n",
    "    dct_data[key] = dct_data.get(key,[])+[txt]        \n",
    "\n",
    "dct_data"
   ]
  },
  {
   "cell_type": "code",
   "execution_count": 206,
   "metadata": {},
   "outputs": [
    {
     "ename": "IndexError",
     "evalue": "list index out of range",
     "output_type": "error",
     "traceback": [
      "\u001b[1;31m---------------------------------------------------------------------------\u001b[0m",
      "\u001b[1;31mIndexError\u001b[0m                                Traceback (most recent call last)",
      "\u001b[1;32m<ipython-input-206-aa519677a8aa>\u001b[0m in \u001b[0;36m<module>\u001b[1;34m()\u001b[0m\n\u001b[0;32m      3\u001b[0m \u001b[1;33m\u001b[0m\u001b[0m\n\u001b[0;32m      4\u001b[0m \u001b[1;32mfor\u001b[0m \u001b[0mop\u001b[0m \u001b[1;32min\u001b[0m \u001b[0mxmldoc\u001b[0m\u001b[1;33m.\u001b[0m\u001b[0mgetElementsByTagName\u001b[0m\u001b[1;33m(\u001b[0m\u001b[1;34m'opinion'\u001b[0m\u001b[1;33m)\u001b[0m\u001b[1;33m:\u001b[0m\u001b[1;33m\u001b[0m\u001b[0m\n\u001b[1;32m----> 5\u001b[1;33m     \u001b[0maw\u001b[0m\u001b[1;33m[\u001b[0m\u001b[1;34m'wee'\u001b[0m\u001b[1;33m]\u001b[0m \u001b[1;33m=\u001b[0m \u001b[0maw\u001b[0m\u001b[1;33m.\u001b[0m\u001b[0mget\u001b[0m\u001b[1;33m(\u001b[0m\u001b[1;34m'wee'\u001b[0m\u001b[1;33m,\u001b[0m \u001b[1;33m[\u001b[0m\u001b[1;33m]\u001b[0m \u001b[1;33m)\u001b[0m \u001b[1;33m+\u001b[0m \u001b[1;33m[\u001b[0m  \u001b[0mop\u001b[0m\u001b[1;33m.\u001b[0m\u001b[0mgetElementsByTagName\u001b[0m\u001b[1;33m(\u001b[0m\u001b[1;34m'author'\u001b[0m\u001b[1;33m)\u001b[0m\u001b[1;33m[\u001b[0m\u001b[1;36m0\u001b[0m\u001b[1;33m]\u001b[0m\u001b[1;33m.\u001b[0m\u001b[0mchildNodes\u001b[0m\u001b[1;33m[\u001b[0m\u001b[1;36m0\u001b[0m\u001b[1;33m]\u001b[0m\u001b[1;33m.\u001b[0m\u001b[0mdata\u001b[0m \u001b[1;33m]\u001b[0m\u001b[1;33m\u001b[0m\u001b[0m\n\u001b[0m\u001b[0;32m      6\u001b[0m \u001b[0maw\u001b[0m\u001b[1;33m\u001b[0m\u001b[0m\n",
      "\u001b[1;31mIndexError\u001b[0m: list index out of range"
     ]
    }
   ],
   "source": [
    "xmldoc = minidom.parse('F:\\\\LexisNexis\\\\LexisNexisHackathon17\\\\data\\\\federal\\\\casemets\\\\32044133498667_redacted_CASEMETS_0029.xml')\n",
    "aw = dict()\n",
    "\n",
    "for op in xmldoc.getElementsByTagName('opinion'):\n",
    "    aw['wee'] = aw.get('wee', [] ) + [  op.getElementsByTagName('author')[0].childNodes[0].data ]\n"
   ]
  },
  {
   "cell_type": "code",
   "execution_count": 88,
   "metadata": {},
   "outputs": [
    {
     "data": {
      "text/plain": [
       "{'citation': dtype('O'),\n",
       " 'court': dtype('O'),\n",
       " 'court_abbr': dtype('O'),\n",
       " 'decision_date': dtype('O'),\n",
       " 'docket_number': dtype('O'),\n",
       " 'long_name': dtype('O'),\n",
       " 'opinion_id': dtype('O'),\n",
       " 'short_name': dtype('O'),\n",
       " 'src': dtype('O')}"
      ]
     },
     "execution_count": 88,
     "metadata": {},
     "output_type": "execute_result"
    }
   ],
   "source": [
    "df_meta.dtypes.to_dict()"
   ]
  },
  {
   "cell_type": "code",
   "execution_count": 147,
   "metadata": {},
   "outputs": [
    {
     "data": {
      "text/plain": [
       "[<DOM Element: page at 0x233d1a7bcc0>, <DOM Element: page at 0x233d1a7be88>]"
      ]
     },
     "execution_count": 147,
     "metadata": {},
     "output_type": "execute_result"
    }
   ],
   "source": []
  },
  {
   "cell_type": "code",
   "execution_count": null,
   "metadata": {
    "collapsed": true
   },
   "outputs": [],
   "source": []
  },
  {
   "cell_type": "code",
   "execution_count": null,
   "metadata": {
    "collapsed": true
   },
   "outputs": [],
   "source": []
  },
  {
   "cell_type": "code",
   "execution_count": null,
   "metadata": {
    "collapsed": true
   },
   "outputs": [],
   "source": []
  }
 ],
 "metadata": {
  "kernelspec": {
   "display_name": "Python 3",
   "language": "python",
   "name": "python3"
  },
  "language_info": {
   "codemirror_mode": {
    "name": "ipython",
    "version": 3
   },
   "file_extension": ".py",
   "mimetype": "text/x-python",
   "name": "python",
   "nbconvert_exporter": "python",
   "pygments_lexer": "ipython3",
   "version": "3.6.1"
  }
 },
 "nbformat": 4,
 "nbformat_minor": 2
}
